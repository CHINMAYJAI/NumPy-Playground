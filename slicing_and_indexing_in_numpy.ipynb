{
 "cells": [
  {
   "cell_type": "markdown",
   "id": "6ce9790a",
   "metadata": {},
   "source": [
    "# Slicing and Indexing in NumPy"
   ]
  },
  {
   "cell_type": "code",
   "execution_count": 1,
   "id": "1ca3b048",
   "metadata": {},
   "outputs": [],
   "source": [
    "import numpy as np"
   ]
  },
  {
   "cell_type": "code",
   "execution_count": 2,
   "id": "3e0db3b9",
   "metadata": {},
   "outputs": [],
   "source": [
    "row_order_of_array = int(input(\"Enter the row order of array: \")) # taking row order of array from the user\n",
    "column_order_of_array = int(input(\"Enter the column of array: \")) # taking column order of array from the user"
   ]
  },
  {
   "cell_type": "code",
   "execution_count": 3,
   "id": "a4956e54",
   "metadata": {},
   "outputs": [],
   "source": [
    "zeroes_of_array = np.zeros((row_order_of_array, column_order_of_array)) # creating array of zeroes of same row order and column order"
   ]
  },
  {
   "cell_type": "code",
   "execution_count": 4,
   "id": "689ccc44",
   "metadata": {},
   "outputs": [],
   "source": [
    "# accessing each and every element from the array which is present in the zeroes_of_array and then change there element dynamically by the user\n",
    "\n",
    "for rows_elements in range(row_order_of_array):\n",
    "    for column_elements in range(column_order_of_array):\n",
    "        zeroes_of_array[rows_elements][column_elements] = float(input(f\"Enter element for row {rows_elements+1} and column {column_elements+1}: \"))\n",
    "\n"
   ]
  },
  {
   "cell_type": "markdown",
   "id": "ede73c70",
   "metadata": {},
   "source": [
    "# Indexing in Numpy"
   ]
  },
  {
   "cell_type": "code",
   "execution_count": 5,
   "id": "e78eb3e0",
   "metadata": {},
   "outputs": [],
   "source": [
    "element = float(input(\"Which element do you want to access?\\n\")) # taking that element from the user which he wants to access"
   ]
  },
  {
   "cell_type": "code",
   "execution_count": 6,
   "id": "771e47ae",
   "metadata": {},
   "outputs": [
    {
     "name": "stdout",
     "output_type": "stream",
     "text": [
      "Row: 2, Column: 0\n",
      "Row: 2, Column: 1\n",
      "Row: 2, Column: 2\n",
      "\n"
     ]
    }
   ],
   "source": [
    "# providing the index of that element which is found in the array\n",
    "index = ''\n",
    "for rows_elements in range(row_order_of_array):\n",
    "    for column_elements in range(column_order_of_array):\n",
    "        if zeroes_of_array[rows_elements][column_elements] == element:\n",
    "            index += (f\"Row: {rows_elements}, Column: {column_elements}\\n\")\n",
    "        \n",
    "if index == '':\n",
    "    print(\"No such element is found!\")\n",
    "else:\n",
    "    print(index)"
   ]
  },
  {
   "cell_type": "markdown",
   "id": "8edfcc7d",
   "metadata": {},
   "source": [
    "# Slicing in Numpy"
   ]
  },
  {
   "cell_type": "code",
   "execution_count": 7,
   "id": "7f70941c",
   "metadata": {},
   "outputs": [
    {
     "name": "stdout",
     "output_type": "stream",
     "text": [
      "Row 9 does not exist!\n"
     ]
    }
   ],
   "source": [
    "row_or_column = str(input(\"What do you want to select? Row or Column?\\n\")) # selecting that which the user wants to select row or column\n",
    "if 'r' in row_or_column.lower(): # trying to minimize the TypeError\n",
    "    row_selection = int(input(\"Which row do you want to select?\\n\"))\n",
    "    try: # trying to minimize the IndexError error\n",
    "        print(zeroes_of_array[row_selection])\n",
    "    except IndexError:\n",
    "        print(f\"Row {row_selection} does not exist!\")\n",
    "elif 'c' in row_or_column.lower(): # trying to minimize the TypeError\n",
    "    column_selection = int(input(\"Which column do you want to select?\\n\"))\n",
    "    try: # trying to minimize the IndexError error\n",
    "        print(zeroes_of_array[column_selection])\n",
    "    except IndexError:\n",
    "        print(f\"Column {column_selection} does not exist!\")"
   ]
  }
 ],
 "metadata": {
  "kernelspec": {
   "display_name": "Python 3 (ipykernel)",
   "language": "python",
   "name": "python3"
  },
  "language_info": {
   "codemirror_mode": {
    "name": "ipython",
    "version": 3
   },
   "file_extension": ".py",
   "mimetype": "text/x-python",
   "name": "python",
   "nbconvert_exporter": "python",
   "pygments_lexer": "ipython3",
   "version": "3.11.5"
  }
 },
 "nbformat": 4,
 "nbformat_minor": 5
}
