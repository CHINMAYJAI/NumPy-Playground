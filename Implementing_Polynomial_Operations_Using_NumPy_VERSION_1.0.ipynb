{
 "cells": [
  {
   "cell_type": "markdown",
   "id": "4eb75b10",
   "metadata": {},
   "source": [
    "# Implementing Polynomial Operations Using NumPy VERSION 1.0"
   ]
  },
  {
   "cell_type": "code",
   "execution_count": 1,
   "id": "d2e0a1f5",
   "metadata": {},
   "outputs": [],
   "source": [
    "import numpy as np"
   ]
  },
  {
   "cell_type": "code",
   "execution_count": 2,
   "id": "20a9f250",
   "metadata": {},
   "outputs": [
    {
     "name": "stdout",
     "output_type": "stream",
     "text": [
      "The degree of both the polynomials must be same!\n"
     ]
    }
   ],
   "source": [
    "print(\"The degree of both the polynomials must be same!\")\n",
    "degree_of_polynomial1 = int(input(\"Enter the degree of polynomial 1: \"))\n",
    "degree_of_polynomial2 = int(input(\"Enter the degree of polynomial 2:\"))"
   ]
  },
  {
   "cell_type": "code",
   "execution_count": 3,
   "id": "655180f8",
   "metadata": {},
   "outputs": [],
   "source": [
    "# Creating the arrays which contains the zeros whose size depends upon the degree of polynomials as they are taken above\n",
    "\n",
    "array_of_zeroes1 = np.zeros((1,degree_of_polynomial1+1))\n",
    "array_of_zeroes2 = np.zeros((1,degree_of_polynomial2+1))"
   ]
  },
  {
   "cell_type": "code",
   "execution_count": 4,
   "id": "f975d2f5",
   "metadata": {},
   "outputs": [],
   "source": [
    "# flattening the array for better calculations\n",
    "\n",
    "flattening_the_array1 = array_of_zeroes1.ravel()\n",
    "flattening_the_array2 = array_of_zeroes2.ravel()"
   ]
  },
  {
   "cell_type": "code",
   "execution_count": 5,
   "id": "619dead5",
   "metadata": {},
   "outputs": [],
   "source": [
    "j = flattening_the_array1.size\n",
    "for i in range(flattening_the_array1.size):\n",
    "    flattening_the_array1[i] = float(input(f\"Enter coefficient of degree {j-1}: \"))\n",
    "    j-=1"
   ]
  },
  {
   "cell_type": "code",
   "execution_count": 6,
   "id": "71d5735e",
   "metadata": {},
   "outputs": [
    {
     "name": "stdout",
     "output_type": "stream",
     "text": [
      "Your equation is : \n",
      "3.0x^3 + 2.0x^2 + 1.0x^1 + 0.0x^0 + 0\n"
     ]
    }
   ],
   "source": [
    "print(\"Your equation is : \")\n",
    "j = flattening_the_array1.size\n",
    "for i in range(flattening_the_array1.size):\n",
    "    print(f\"{flattening_the_array1[i]}x^{j-1} + \",end=\"\")\n",
    "    j-=1\n",
    "print(0)\n"
   ]
  },
  {
   "cell_type": "code",
   "execution_count": 7,
   "id": "414207af",
   "metadata": {},
   "outputs": [],
   "source": [
    "j = flattening_the_array2.size\n",
    "for i in range(flattening_the_array2.size):\n",
    "    flattening_the_array2[i] = float(input(f\"Enter coefficient of degree {j-1}: \"))\n",
    "    j-=1"
   ]
  },
  {
   "cell_type": "code",
   "execution_count": 8,
   "id": "03b07b3e",
   "metadata": {},
   "outputs": [
    {
     "name": "stdout",
     "output_type": "stream",
     "text": [
      "Your equation is : \n",
      "3.0x^4 + 2.0x^3 + 1.0x^2 + 1.0x^1 + 0\n"
     ]
    }
   ],
   "source": [
    "print(\"Your equation is : \")\n",
    "j = flattening_the_array2.size\n",
    "for i in range(flattening_the_array2.size):\n",
    "    print(f\"{flattening_the_array2[i]}x^{j} + \",end=\"\")\n",
    "    j-=1\n",
    "print(0)"
   ]
  },
  {
   "cell_type": "markdown",
   "id": "d61457aa",
   "metadata": {},
   "source": [
    "# Addition of the polynomials"
   ]
  },
  {
   "cell_type": "code",
   "execution_count": 9,
   "id": "53a1d20e",
   "metadata": {},
   "outputs": [],
   "source": [
    "flattening_the_result = np.add(flattening_the_array1,flattening_the_array2)"
   ]
  },
  {
   "cell_type": "code",
   "execution_count": 10,
   "id": "468359c7",
   "metadata": {},
   "outputs": [
    {
     "name": "stdout",
     "output_type": "stream",
     "text": [
      "Your result is : \n",
      "6.0x^4 + 4.0x^3 + 2.0x^2 + 1.0x^1 + 0\n"
     ]
    }
   ],
   "source": [
    "print(\"Your result is : \")\n",
    "j = flattening_the_result.size\n",
    "for i in range(flattening_the_result.size):\n",
    "    print(f\"{flattening_the_result[i]}x^{j} + \",end=\"\")\n",
    "    j-=1\n",
    "print(0)"
   ]
  },
  {
   "cell_type": "markdown",
   "id": "4d716e57",
   "metadata": {},
   "source": [
    "# Subtraction of the polynomials"
   ]
  },
  {
   "cell_type": "code",
   "execution_count": 11,
   "id": "ee53d382",
   "metadata": {},
   "outputs": [],
   "source": [
    "flattening_the_result = np.subtract(flattening_the_array1,flattening_the_array2)"
   ]
  },
  {
   "cell_type": "code",
   "execution_count": 12,
   "id": "640a6bce",
   "metadata": {},
   "outputs": [
    {
     "name": "stdout",
     "output_type": "stream",
     "text": [
      "Your result is : \n",
      "0.0x^4 + 0.0x^3 + 0.0x^2 + -1.0x^1 + 0\n"
     ]
    }
   ],
   "source": [
    "print(\"Your result is : \")\n",
    "j = flattening_the_result.size\n",
    "for i in range(flattening_the_result.size):\n",
    "    print(f\"{flattening_the_result[i]}x^{j} + \",end=\"\")\n",
    "    j-=1\n",
    "print(0)"
   ]
  },
  {
   "cell_type": "markdown",
   "id": "fce7d0b5",
   "metadata": {},
   "source": [
    "# Evaluation at a Specific Point"
   ]
  },
  {
   "cell_type": "code",
   "execution_count": 13,
   "id": "8181a504",
   "metadata": {},
   "outputs": [],
   "source": [
    "value_of_x = int(input(\"Enter the value of x: \"))"
   ]
  },
  {
   "cell_type": "code",
   "execution_count": 14,
   "id": "0862d16e",
   "metadata": {},
   "outputs": [
    {
     "name": "stdout",
     "output_type": "stream",
     "text": [
      "Your equation is : \n",
      "3.0x^3 + 2.0x^2 + 1.0x^1 + 1.0x^0 + 0\n",
      "Putting the value of x\n",
      "431.0\n"
     ]
    }
   ],
   "source": [
    "print(\"Your equation is : \")\n",
    "j = flattening_the_array2.size\n",
    "for i in range(flattening_the_array2.size):\n",
    "    print(f\"{flattening_the_array2[i]}x^{j-1} + \",end=\"\")\n",
    "    j-=1\n",
    "print(0)\n",
    "\n",
    "\n",
    "print(\"Putting the value of x\")\n",
    "j = flattening_the_array2.size\n",
    "summation = 0\n",
    "for i in range(flattening_the_array2.size):\n",
    "    summation += ((flattening_the_array2[i])*(value_of_x**(j-1)))\n",
    "    j-=1\n",
    "print(summation)"
   ]
  },
  {
   "cell_type": "code",
   "execution_count": 15,
   "id": "d2cac2ee",
   "metadata": {},
   "outputs": [
    {
     "name": "stdout",
     "output_type": "stream",
     "text": [
      "Your equation is : \n",
      "3.0x^3 + 2.0x^2 + 1.0x^1 + 0.0x^0 + 0\n",
      "Putting the value of x\n",
      "430.0\n"
     ]
    }
   ],
   "source": [
    "print(\"Your equation is : \")\n",
    "j = flattening_the_array1.size\n",
    "for i in range(flattening_the_array1.size):\n",
    "    print(f\"{flattening_the_array1[i]}x^{j-1} + \",end=\"\")\n",
    "    j-=1\n",
    "print(0)\n",
    "\n",
    "\n",
    "print(\"Putting the value of x\")\n",
    "j = flattening_the_array1.size\n",
    "summation = 0\n",
    "for i in range(flattening_the_array1.size):\n",
    "    summation += ((flattening_the_array1[i])*(value_of_x**(j-1)))\n",
    "    j-=1\n",
    "print(summation)"
   ]
  }
 ],
 "metadata": {
  "kernelspec": {
   "display_name": "Python 3 (ipykernel)",
   "language": "python",
   "name": "python3"
  },
  "language_info": {
   "codemirror_mode": {
    "name": "ipython",
    "version": 3
   },
   "file_extension": ".py",
   "mimetype": "text/x-python",
   "name": "python",
   "nbconvert_exporter": "python",
   "pygments_lexer": "ipython3",
   "version": "3.11.5"
  }
 },
 "nbformat": 4,
 "nbformat_minor": 5
}
