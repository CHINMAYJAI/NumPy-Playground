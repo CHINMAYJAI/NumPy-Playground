{
 "cells": [
  {
   "cell_type": "markdown",
   "id": "4b09cad6",
   "metadata": {},
   "source": [
    "# Statistical Analysis in NumPy: Calculating Correlation and Covariance Between Datasets Using NumPy"
   ]
  },
  {
   "cell_type": "markdown",
   "id": "bfe41839",
   "metadata": {},
   "source": [
    "***Mark that this program just matches the pattern then generates the output no other advises provided matches the number of working hours in a day and then matches the outcome and then generates the output***"
   ]
  },
  {
   "cell_type": "markdown",
   "id": "7e2ae5ef",
   "metadata": {},
   "source": [
    "*It is understood that datasets have some relation in them but this code will identify that relation*"
   ]
  },
  {
   "cell_type": "code",
   "execution_count": 1,
   "id": "383685e1",
   "metadata": {},
   "outputs": [],
   "source": [
    "import numpy as np"
   ]
  },
  {
   "cell_type": "code",
   "execution_count": 2,
   "id": "fb0167dc",
   "metadata": {},
   "outputs": [],
   "source": [
    "number_of_columns = int(input('How many entries do you want to enter?'))"
   ]
  },
  {
   "cell_type": "code",
   "execution_count": 3,
   "id": "ef1d62fd",
   "metadata": {},
   "outputs": [],
   "source": [
    "zeroes_of_array = np.zeros((1,number_of_columns))"
   ]
  },
  {
   "cell_type": "code",
   "execution_count": 4,
   "id": "1a57e5f6",
   "metadata": {},
   "outputs": [],
   "source": [
    "array_of_hour = zeroes_of_array.ravel()\n",
    "array_of_marks = zeroes_of_array.ravel()"
   ]
  },
  {
   "cell_type": "code",
   "execution_count": 5,
   "id": "d5040bd4",
   "metadata": {},
   "outputs": [],
   "source": [
    "# entering the number of hours that student studies\n",
    "for iteration in range(number_of_columns):\n",
    "    array_of_hour[iteration] = int(input(f\"Enter the number of hours you study in day {iteration+1}?\\n\"))\n"
   ]
  },
  {
   "cell_type": "code",
   "execution_count": 6,
   "id": "2b741f43",
   "metadata": {},
   "outputs": [],
   "source": [
    "# entering the score on each day that student gets after studing on that particular hour as mentioned in the array_of_marks\n",
    "for iteration in range(number_of_columns):\n",
    "    array_of_marks[iteration] = int(input(f\"Enter the score you get on day {iteration+1}?\\n\"))"
   ]
  },
  {
   "cell_type": "code",
   "execution_count": 7,
   "id": "54fe1cad",
   "metadata": {},
   "outputs": [
    {
     "name": "stdout",
     "output_type": "stream",
     "text": [
      "RESULT: MARKS AND STUDY TIME TOTALLY DEPENDS UPON YOUR LEARNING SKILLS\n"
     ]
    }
   ],
   "source": [
    "desc = 0 # initialzing the descending as 0 so that it can matches the condition in if statement whether the pattern is completly decreasing or not\n",
    "asc = 0 # initialzing the ascending as 0 so that it can matches the condition in if statement whether the pattern is completly increasing or not\n",
    "\n",
    "for i in range(number_of_columns):\n",
    "    if i+1 == number_of_columns:\n",
    "        break\n",
    "    if array_of_marks[i] > array_of_marks[i+1]:\n",
    "        desc += 1\n",
    "    else :\n",
    "        asc += 1\n",
    "\n",
    "\n",
    "if ((desc+1) == number_of_columns): # if decreasing pattern matches\n",
    "    print(\"RESULT: STUDY LESS TO GAIN MORE MARKS\\nYOUR MIND IS SHARP\")\n",
    "elif ((asc+1) == number_of_columns): # if increasing pattern matches\n",
    "    print(\"RESULT: STUDY MORE TO GAIN MORE MARKS\\nYOU ARE A GOOD LEARNER BUT TAKES MORE TIME\\nJUST LIKE NORMAL HUMAN BEING\")\n",
    "else: # if condition program fails to identify the pattern (for increasing or decreasing)\n",
    "    print(\"RESULT: MARKS AND STUDY TIME TOTALLY DEPENDS UPON YOUR LEARNING SKILLS\")\n"
   ]
  }
 ],
 "metadata": {
  "kernelspec": {
   "display_name": "Python 3 (ipykernel)",
   "language": "python",
   "name": "python3"
  },
  "language_info": {
   "codemirror_mode": {
    "name": "ipython",
    "version": 3
   },
   "file_extension": ".py",
   "mimetype": "text/x-python",
   "name": "python",
   "nbconvert_exporter": "python",
   "pygments_lexer": "ipython3",
   "version": "3.11.5"
  }
 },
 "nbformat": 4,
 "nbformat_minor": 5
}
