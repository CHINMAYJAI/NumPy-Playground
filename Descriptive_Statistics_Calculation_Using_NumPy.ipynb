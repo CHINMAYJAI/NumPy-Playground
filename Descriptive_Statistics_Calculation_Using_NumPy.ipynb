{
 "cells": [
  {
   "cell_type": "markdown",
   "id": "2cc6044b",
   "metadata": {},
   "source": [
    "# Descriptive Statistics Calculation Using NumPy"
   ]
  },
  {
   "cell_type": "code",
   "execution_count": 1,
   "id": "8d821286",
   "metadata": {},
   "outputs": [],
   "source": [
    "import numpy as np\n",
    "import math"
   ]
  },
  {
   "cell_type": "code",
   "execution_count": 2,
   "id": "7621099c",
   "metadata": {},
   "outputs": [],
   "source": [
    "number_of_elements = int(input(\"How many elements do you want me to enter?\"))"
   ]
  },
  {
   "cell_type": "code",
   "execution_count": 3,
   "id": "3733fc34",
   "metadata": {},
   "outputs": [],
   "source": [
    "zeroes_of_array = np.zeros((1,number_of_elements))"
   ]
  },
  {
   "cell_type": "code",
   "execution_count": 4,
   "id": "c1d514fd",
   "metadata": {},
   "outputs": [],
   "source": [
    "flatern_array = zeroes_of_array.ravel()"
   ]
  },
  {
   "cell_type": "code",
   "execution_count": 5,
   "id": "c9b28437",
   "metadata": {},
   "outputs": [],
   "source": [
    "for elements in range(number_of_elements):\n",
    "    flatern_array[elements] = float(input(f\"Enter element {elements+1}: \"))"
   ]
  },
  {
   "cell_type": "code",
   "execution_count": 6,
   "id": "27ebf879",
   "metadata": {},
   "outputs": [],
   "source": [
    "flatern_array.sort()"
   ]
  },
  {
   "cell_type": "markdown",
   "id": "b5fb6575",
   "metadata": {},
   "source": [
    "# for calculating MEAN"
   ]
  },
  {
   "cell_type": "code",
   "execution_count": 7,
   "id": "ab44e954",
   "metadata": {},
   "outputs": [],
   "source": [
    "mean = 0\n",
    "for mean_element in range(number_of_elements):\n",
    "    mean += (flatern_array[mean_element])\n",
    "mean = mean / number_of_elements"
   ]
  },
  {
   "cell_type": "markdown",
   "id": "ba9f00ee",
   "metadata": {},
   "source": [
    "# for calculating MEDIAN"
   ]
  },
  {
   "cell_type": "code",
   "execution_count": 8,
   "id": "711c7ca7",
   "metadata": {},
   "outputs": [],
   "source": [
    "median = 0\n",
    "if (len(flatern_array)%2 == 0): # checking condition for even\n",
    "    position1 = int(len(flatern_array)/2)\n",
    "    position2 = position1+1\n",
    "    median = ((flatern_array[position1-1] + flatern_array[position2-1]))/2\n",
    "    \n",
    "elif(len(flatern_array)%2 != 0): # checking condition for odd\n",
    "    position = int((len(flatern_array)+1)/2)\n",
    "    median = flatern_array[position-1]\n"
   ]
  },
  {
   "cell_type": "markdown",
   "id": "78f2e8a2",
   "metadata": {},
   "source": [
    "# for calculating VARIANCE"
   ]
  },
  {
   "cell_type": "code",
   "execution_count": 9,
   "id": "1d3f9db3",
   "metadata": {},
   "outputs": [],
   "source": [
    "variance = 0\n",
    "summation = 0\n",
    "for i in range(len(flatern_array)):\n",
    "    summation += ((flatern_array[i]-mean)**2)\n",
    "variance = summation/(len(flatern_array)-1)"
   ]
  },
  {
   "cell_type": "markdown",
   "id": "6559614a",
   "metadata": {},
   "source": [
    "# for calculating STANDARD DEVIATION"
   ]
  },
  {
   "cell_type": "code",
   "execution_count": 10,
   "id": "3c923817",
   "metadata": {},
   "outputs": [],
   "source": [
    "standard_deviation = math.sqrt(variance)"
   ]
  },
  {
   "cell_type": "code",
   "execution_count": 11,
   "id": "4933abec",
   "metadata": {},
   "outputs": [
    {
     "name": "stdout",
     "output_type": "stream",
     "text": [
      "Mean: 8.0\n",
      "Median: 8.0\n",
      "Variance: 11.5\n",
      "Standard Deviation: 3.39\n"
     ]
    }
   ],
   "source": [
    "print(f\"Mean: {mean}\")\n",
    "print(f\"Median: {median}\")\n",
    "print(f\"Variance: {variance}\")\n",
    "print(f\"Standard Deviation: {round(standard_deviation,2)}\")"
   ]
  }
 ],
 "metadata": {
  "kernelspec": {
   "display_name": "Python 3 (ipykernel)",
   "language": "python",
   "name": "python3"
  },
  "language_info": {
   "codemirror_mode": {
    "name": "ipython",
    "version": 3
   },
   "file_extension": ".py",
   "mimetype": "text/x-python",
   "name": "python",
   "nbconvert_exporter": "python",
   "pygments_lexer": "ipython3",
   "version": "3.11.5"
  }
 },
 "nbformat": 4,
 "nbformat_minor": 5
}
