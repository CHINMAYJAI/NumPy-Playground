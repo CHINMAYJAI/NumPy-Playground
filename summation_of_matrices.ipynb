{
 "cells": [
  {
   "cell_type": "markdown",
   "id": "56df9895",
   "metadata": {},
   "source": [
    "# Summation of the nxn matrices"
   ]
  },
  {
   "cell_type": "code",
   "execution_count": null,
   "id": "7d3a6e9f",
   "metadata": {},
   "outputs": [],
   "source": [
    "import numpy as np"
   ]
  },
  {
   "cell_type": "code",
   "execution_count": null,
   "id": "3ea874f5",
   "metadata": {},
   "outputs": [],
   "source": [
    "number_of_matrices = int(input(\"How many matrices do you want to enter?\\n\"))\n",
    "order_of_matrix = int(input(\"Order of matrix: \"))"
   ]
  },
  {
   "cell_type": "code",
   "execution_count": null,
   "id": "6f74e7e3",
   "metadata": {},
   "outputs": [],
   "source": [
    "matrices = [] # creating a empty matrix so that all the matrix can be stored together"
   ]
  },
  {
   "cell_type": "code",
   "execution_count": null,
   "id": "12d479a2",
   "metadata": {},
   "outputs": [],
   "source": [
    "# appending all the created null matrices in the above matrix\n",
    "for i in range(0,number_of_matrices):\n",
    "    # creating the same size of matrix entered by the user\n",
    "    zeroes_of_matrices = np.zeros((order_of_matrix,order_of_matrix))\n",
    "    matrices.append(zeroes_of_matrices)"
   ]
  },
  {
   "cell_type": "code",
   "execution_count": null,
   "id": "225d97a6",
   "metadata": {},
   "outputs": [],
   "source": [
    "# method for modifing all the elements present in the matrix\n",
    "for matrix in range(0,number_of_matrices):\n",
    "    for row in range(0,order_of_matrix):\n",
    "        for element in range(0,order_of_matrix):\n",
    "            item = float(input(f\"Enter item {element+1} of {row+1} of matrix {matrix+1}: \"))\n",
    "            matrices[matrix][row][element] = item\n",
    "        \n",
    "    \n"
   ]
  },
  {
   "cell_type": "code",
   "execution_count": null,
   "id": "a50c1d32",
   "metadata": {},
   "outputs": [],
   "source": [
    "summation = np.zeros((order_of_matrix,order_of_matrix)) # this is used to create the null matrix so that we can do the summation of all the matrix given by the user"
   ]
  },
  {
   "cell_type": "code",
   "execution_count": null,
   "id": "e29e41c0",
   "metadata": {},
   "outputs": [],
   "source": [
    "# summing up all the matrices entered by the user\n",
    "\n",
    "for i in range(0,number_of_matrices):\n",
    "    summation += matrices[i]"
   ]
  },
  {
   "cell_type": "code",
   "execution_count": null,
   "id": "68a69add",
   "metadata": {},
   "outputs": [],
   "source": [
    "# printing the summation of all the matrices entered by the user\n",
    "print(summation)"
   ]
  },
  {
   "cell_type": "code",
   "execution_count": null,
   "id": "d2dbe8c1",
   "metadata": {},
   "outputs": [],
   "source": [
    "for i in range(0,number_of_matrices-1):\n",
    "    print(f\"{matrices[i]} + \")\n",
    "\n",
    "print(f\"{matrices[-1]} = \\n\\n{summation}\")"
   ]
  },
  {
   "cell_type": "code",
   "execution_count": null,
   "id": "672c0143",
   "metadata": {},
   "outputs": [],
   "source": []
  }
 ],
 "metadata": {
  "kernelspec": {
   "display_name": "Python 3 (ipykernel)",
   "language": "python",
   "name": "python3"
  },
  "language_info": {
   "codemirror_mode": {
    "name": "ipython",
    "version": 3
   },
   "file_extension": ".py",
   "mimetype": "text/x-python",
   "name": "python",
   "nbconvert_exporter": "python",
   "pygments_lexer": "ipython3",
   "version": "3.11.5"
  }
 },
 "nbformat": 4,
 "nbformat_minor": 5
}
